{
  "cells": [
    {
      "cell_type": "markdown",
      "metadata": {
        "id": "QngLEwhjnila"
      },
      "source": [
        "### [double-click to type in] Input your name, your netid here:Jingfan Zhang oqh8985"
      ]
    },
    {
      "cell_type": "markdown",
      "metadata": {
        "id": "-kYoQkPVnild"
      },
      "source": [
        "---"
      ]
    },
    {
      "cell_type": "markdown",
      "metadata": {
        "id": "bESt0cj0nilj"
      },
      "source": [
        "Instructions:\n",
        "\n",
        "1. First save this notebook to your drive, then work on it.\n",
        "2. In order to connect to the database, you need to upload the database file to your current working directory.\n",
        "3. DO NOT change the setup coding blocks. You should only put queries in the specified locations.\n",
        "4. After you are done, save and download your notebook as ipynb file, and submit it to canvas. Make sure you keep the output in the notebook."
      ]
    },
    {
      "cell_type": "code",
      "execution_count": 1,
      "metadata": {
        "id": "mEjRec8q-H-T"
      },
      "outputs": [],
      "source": [
        "#### Execute this coding block only! DO NOT change anything!!\n",
        "\n",
        "import csv, sqlite3\n",
        "import pandas as pd\n",
        "from sqlite3 import Error\n",
        "\n",
        "def create_connection(db_file):\n",
        "  conn = None\n",
        "  try:\n",
        "      conn = sqlite3.connect(db_file)\n",
        "  except Error as e:\n",
        "      print(\"create_connection error:\")\n",
        "      print(e)\n",
        "  return conn\n",
        "\n",
        "def execute_query(conn, query):\n",
        "  return pd.read_sql_query(query,conn)\n",
        "\n",
        "def display_result(r):\n",
        "  display(r.style.hide(axis='index'))\n",
        "\n",
        "conn1 = create_connection('SalesOrders.db')\n",
        "conn2 = create_connection('SchoolScheduling.db')"
      ]
    },
    {
      "cell_type": "code",
      "execution_count": null,
      "metadata": {
        "id": "QzhGncYI5Wit",
        "outputId": "1d67a413-4cb1-421a-aca3-587b193ff0b4",
        "colab": {
          "base_uri": "https://localhost:8080/",
          "height": 80
        }
      },
      "outputs": [
        {
          "output_type": "display_data",
          "data": {
            "text/plain": [
              "<pandas.io.formats.style.Styler at 0x7d1015bb3eb0>"
            ],
            "text/html": [
              "<style type=\"text/css\">\n",
              "</style>\n",
              "<table id=\"T_b1cd4\" class=\"dataframe\">\n",
              "  <thead>\n",
              "    <tr>\n",
              "      <th id=\"T_b1cd4_level0_col0\" class=\"col_heading level0 col0\" >count(OrderNumber)</th>\n",
              "    </tr>\n",
              "  </thead>\n",
              "  <tbody>\n",
              "    <tr>\n",
              "      <td id=\"T_b1cd4_row0_col0\" class=\"data row0 col0\" >117</td>\n",
              "    </tr>\n",
              "  </tbody>\n",
              "</table>\n"
            ]
          },
          "metadata": {}
        }
      ],
      "source": [
        "####TODO 1: put your sql query in the following three single quotes\n",
        "query1='''\n",
        "select count(OrderNumber) from Orders\n",
        "join Employees on Orders.EmployeeID = Employees.EmployeeID\n",
        "where Employees.EmpFirstName = 'Mary'\n",
        "'''\n",
        "r = execute_query(conn1,query1)\n",
        "display_result(r)"
      ]
    },
    {
      "cell_type": "code",
      "execution_count": null,
      "metadata": {
        "deletable": false,
        "editable": false,
        "id": "CfHmsQDw-DUK",
        "nbgrader": {
          "cell_type": "code",
          "checksum": "3d9531a4fea009265bd7463077dc5d86",
          "grade": true,
          "grade_id": "cell-d9250d2b21178ab4",
          "locked": true,
          "points": 10,
          "schema_version": 3,
          "solution": false,
          "task": false
        },
        "tags": []
      },
      "outputs": [],
      "source": [
        "#leave this cell blank"
      ]
    },
    {
      "cell_type": "code",
      "execution_count": null,
      "metadata": {
        "id": "WdYjqm8Q9_ya",
        "outputId": "5cb66173-3f75-45ef-9099-ac7ba7811851",
        "colab": {
          "base_uri": "https://localhost:8080/",
          "height": 80
        }
      },
      "outputs": [
        {
          "output_type": "display_data",
          "data": {
            "text/plain": [
              "<pandas.io.formats.style.Styler at 0x7d1015bb3a90>"
            ],
            "text/html": [
              "<style type=\"text/css\">\n",
              "</style>\n",
              "<table id=\"T_65df8\" class=\"dataframe\">\n",
              "  <thead>\n",
              "    <tr>\n",
              "      <th id=\"T_65df8_level0_col0\" class=\"col_heading level0 col0\" >SUM(d.QuotedPrice * d.QuantityOrdered)</th>\n",
              "    </tr>\n",
              "  </thead>\n",
              "  <tbody>\n",
              "    <tr>\n",
              "      <td id=\"T_65df8_row0_col0\" class=\"data row0 col0\" >188026.720000</td>\n",
              "    </tr>\n",
              "  </tbody>\n",
              "</table>\n"
            ]
          },
          "metadata": {}
        }
      ],
      "source": [
        "####TODO 2: put your sql query in the following three single quotes\n",
        "query2='''\n",
        "select SUM(d.QuotedPrice * d.QuantityOrdered) from Order_Details d\n",
        "join Orders o on d.OrderNumber = o.OrderNumber\n",
        "join Customers c on o.CustomerID = c.CustomerID\n",
        "where c.CustFirstName = 'Alaina'\n",
        "'''\n",
        "r = execute_query(conn1,query2)\n",
        "display_result(r)"
      ]
    },
    {
      "cell_type": "code",
      "execution_count": null,
      "metadata": {
        "deletable": false,
        "editable": false,
        "id": "XrxkRNd7-kMY",
        "nbgrader": {
          "cell_type": "code",
          "checksum": "5b421791b849c40ab23e9978cefea28b",
          "grade": true,
          "grade_id": "cell-03733ac8711deb72",
          "locked": true,
          "points": 10,
          "schema_version": 3,
          "solution": false,
          "task": false
        },
        "tags": []
      },
      "outputs": [],
      "source": [
        "#leave this cell blank"
      ]
    },
    {
      "cell_type": "code",
      "execution_count": null,
      "metadata": {
        "id": "cgHG4zil-kPH"
      },
      "outputs": [],
      "source": [
        "####TODO 3: put your sql query in the following three single quotes\n",
        "query3='''\n",
        "select OrderDate, Count(*) from Orders\n",
        "GROUP BY OrderDate\n",
        "ORDER BY OrderDate\n",
        "'''\n",
        "r = execute_query(conn1,query3)\n",
        "display_result(r)"
      ]
    },
    {
      "cell_type": "code",
      "execution_count": null,
      "metadata": {
        "deletable": false,
        "editable": false,
        "id": "xcBT6okj-kRx",
        "nbgrader": {
          "cell_type": "code",
          "checksum": "f4d2dec69a0dfc7ba45a7f2f0243e85a",
          "grade": true,
          "grade_id": "cell-c410c2a4d64c91ed",
          "locked": true,
          "points": 10,
          "schema_version": 3,
          "solution": false,
          "task": false
        },
        "tags": []
      },
      "outputs": [],
      "source": [
        "#leave this cell blank"
      ]
    },
    {
      "cell_type": "code",
      "execution_count": null,
      "metadata": {
        "id": "eJC85ajH-kUZ"
      },
      "outputs": [],
      "source": [
        "####TODO 4: put your sql query in the following three single quotes\n",
        "query4='''\n",
        "SELECT CustState, Count(*) as CustCount from Customers\n",
        "Group By CustState\n",
        "Order By CustCount DESC\n",
        "LIMIT 1\n",
        "'''\n",
        "r = execute_query(conn1,query4)\n",
        "display_result(r)"
      ]
    },
    {
      "cell_type": "code",
      "execution_count": null,
      "metadata": {
        "deletable": false,
        "editable": false,
        "id": "NZPKcd1j-kWr",
        "nbgrader": {
          "cell_type": "code",
          "checksum": "6c464927a40275ed10d869d522aa4184",
          "grade": true,
          "grade_id": "cell-fd4ec961a64ebce1",
          "locked": true,
          "points": 10,
          "schema_version": 3,
          "solution": false,
          "task": false
        },
        "tags": []
      },
      "outputs": [],
      "source": [
        "#leave this cell blank"
      ]
    },
    {
      "cell_type": "code",
      "execution_count": null,
      "metadata": {
        "id": "-taA5sOP-kZJ",
        "outputId": "61409d3d-9c21-4f42-9e27-55220334f964",
        "colab": {
          "base_uri": "https://localhost:8080/",
          "height": 143
        }
      },
      "outputs": [
        {
          "output_type": "display_data",
          "data": {
            "text/plain": [
              "<pandas.io.formats.style.Styler at 0x7d1016a4b2b0>"
            ],
            "text/html": [
              "<style type=\"text/css\">\n",
              "</style>\n",
              "<table id=\"T_0ee84\" class=\"dataframe\">\n",
              "  <thead>\n",
              "    <tr>\n",
              "      <th id=\"T_0ee84_level0_col0\" class=\"col_heading level0 col0\" >VendName</th>\n",
              "      <th id=\"T_0ee84_level0_col1\" class=\"col_heading level0 col1\" >VendState</th>\n",
              "    </tr>\n",
              "  </thead>\n",
              "  <tbody>\n",
              "    <tr>\n",
              "      <td id=\"T_0ee84_row0_col0\" class=\"data row0 col0\" >Big Sky Mountain Bikes</td>\n",
              "      <td id=\"T_0ee84_row0_col1\" class=\"data row0 col1\" >AK</td>\n",
              "    </tr>\n",
              "    <tr>\n",
              "      <td id=\"T_0ee84_row1_col0\" class=\"data row1 col0\" >Dog Ear</td>\n",
              "      <td id=\"T_0ee84_row1_col1\" class=\"data row1 col1\" >NY</td>\n",
              "    </tr>\n",
              "    <tr>\n",
              "      <td id=\"T_0ee84_row2_col0\" class=\"data row2 col0\" >Lone Star Bike Supply</td>\n",
              "      <td id=\"T_0ee84_row2_col1\" class=\"data row2 col1\" >TX</td>\n",
              "    </tr>\n",
              "  </tbody>\n",
              "</table>\n"
            ]
          },
          "metadata": {}
        }
      ],
      "source": [
        "####TODO 5: put your sql query in the following three single quotes\n",
        "query5='''\n",
        "select VendName, VendState from Vendors v\n",
        "join Product_Vendors pv on v.VendorID = pv.VendorID\n",
        "join Products p on pv.ProductNumber = p.ProductNumber\n",
        "where p.ProductName = 'Cosmic Elite Road Warrior Wheels'\n",
        "'''\n",
        "r = execute_query(conn1,query5)\n",
        "display_result(r)"
      ]
    },
    {
      "cell_type": "code",
      "execution_count": null,
      "metadata": {
        "deletable": false,
        "editable": false,
        "id": "19fR-mIy-nps",
        "nbgrader": {
          "cell_type": "code",
          "checksum": "45169cb157859ac42b836263687fbd3f",
          "grade": true,
          "grade_id": "cell-bc8d6c2c4f19fe36",
          "locked": true,
          "points": 10,
          "schema_version": 3,
          "solution": false,
          "task": false
        },
        "tags": []
      },
      "outputs": [],
      "source": [
        "#leave this cell blank"
      ]
    },
    {
      "cell_type": "code",
      "execution_count": null,
      "metadata": {
        "id": "lGM-rKau-nsn",
        "outputId": "8bdc5bb8-ed1e-4e46-d38b-16f0e8c5081a",
        "colab": {
          "base_uri": "https://localhost:8080/",
          "height": 425
        }
      },
      "outputs": [
        {
          "output_type": "display_data",
          "data": {
            "text/plain": [
              "<pandas.io.formats.style.Styler at 0x7d1016a4aef0>"
            ],
            "text/html": [
              "<style type=\"text/css\">\n",
              "</style>\n",
              "<table id=\"T_59105\" class=\"dataframe\">\n",
              "  <thead>\n",
              "    <tr>\n",
              "      <th id=\"T_59105_level0_col0\" class=\"col_heading level0 col0\" >ProductName</th>\n",
              "    </tr>\n",
              "  </thead>\n",
              "  <tbody>\n",
              "    <tr>\n",
              "      <td id=\"T_59105_row0_col0\" class=\"data row0 col0\" >Trek 9000 Mountain Bike</td>\n",
              "    </tr>\n",
              "    <tr>\n",
              "      <td id=\"T_59105_row1_col0\" class=\"data row1 col0\" >Dog Ear Cyclecomputer</td>\n",
              "    </tr>\n",
              "    <tr>\n",
              "      <td id=\"T_59105_row2_col0\" class=\"data row2 col0\" >Dog Ear Helmet Mount Mirrors</td>\n",
              "    </tr>\n",
              "    <tr>\n",
              "      <td id=\"T_59105_row3_col0\" class=\"data row3 col0\" >ProFormance Toe-Klips 2G</td>\n",
              "    </tr>\n",
              "    <tr>\n",
              "      <td id=\"T_59105_row4_col0\" class=\"data row4 col0\" >ProFormance ATB All-Terrain Pedal</td>\n",
              "    </tr>\n",
              "    <tr>\n",
              "      <td id=\"T_59105_row5_col0\" class=\"data row5 col0\" >Dog Ear Monster Grip Gloves</td>\n",
              "    </tr>\n",
              "    <tr>\n",
              "      <td id=\"T_59105_row6_col0\" class=\"data row6 col0\" >Dog Ear Aero-Flow Floor Pump</td>\n",
              "    </tr>\n",
              "    <tr>\n",
              "      <td id=\"T_59105_row7_col0\" class=\"data row7 col0\" >StaDry Cycling Pants</td>\n",
              "    </tr>\n",
              "    <tr>\n",
              "      <td id=\"T_59105_row8_col0\" class=\"data row8 col0\" >True Grip Competition Gloves</td>\n",
              "    </tr>\n",
              "    <tr>\n",
              "      <td id=\"T_59105_row9_col0\" class=\"data row9 col0\" >Kool-Breeze Rocket Top Jersey</td>\n",
              "    </tr>\n",
              "    <tr>\n",
              "      <td id=\"T_59105_row10_col0\" class=\"data row10 col0\" >Cosmic Elite Road Warrior Wheels</td>\n",
              "    </tr>\n",
              "    <tr>\n",
              "      <td id=\"T_59105_row11_col0\" class=\"data row11 col0\" >Road Warrior Hitch Pack</td>\n",
              "    </tr>\n",
              "  </tbody>\n",
              "</table>\n"
            ]
          },
          "metadata": {}
        }
      ],
      "source": [
        "####TODO 6: put your sql query in the following three single quotes\n",
        "query6='''\n",
        "select ProductName from Products p\n",
        "join Product_Vendors pv on p.ProductNumber = pv.ProductNumber\n",
        "join Vendors v on pv.VendorID = v.VendorID\n",
        "where VendState = 'NY'\n",
        "'''\n",
        "r = execute_query(conn1,query6)\n",
        "display_result(r)"
      ]
    },
    {
      "cell_type": "code",
      "execution_count": null,
      "metadata": {
        "deletable": false,
        "editable": false,
        "id": "WesVTpFv-nvi",
        "nbgrader": {
          "cell_type": "code",
          "checksum": "f48d65b529224ad38935f0cd4d5a54dd",
          "grade": true,
          "grade_id": "cell-12c8233db4171679",
          "locked": true,
          "points": 10,
          "schema_version": 3,
          "solution": false,
          "task": false
        },
        "tags": []
      },
      "outputs": [],
      "source": [
        "#leave this cell blank"
      ]
    },
    {
      "cell_type": "code",
      "execution_count": null,
      "metadata": {
        "id": "lf8DEKx9-nx4"
      },
      "outputs": [],
      "source": [
        "####TODO 7: put your sql query in the following three single quotes\n",
        "query7='''\n",
        "select CustomerID, CustFirstName, count(*) from Customers c\n",
        "join Orders o on c.CustomerID = o.CustomerID\n",
        "group by c.CustomerID, c.CustFirstName\n",
        "Order By count(*) DESC\n",
        "LIMIT 6\n",
        "'''\n",
        "r = execute_query(conn1,query7)\n",
        "display_result(r)"
      ]
    },
    {
      "cell_type": "code",
      "execution_count": null,
      "metadata": {
        "deletable": false,
        "editable": false,
        "id": "csgcb022-n0S",
        "nbgrader": {
          "cell_type": "code",
          "checksum": "77c3aaba0ff098bb7f2f59e8c4f4a3ec",
          "grade": true,
          "grade_id": "cell-291c72cc6281f94b",
          "locked": true,
          "points": 10,
          "schema_version": 3,
          "solution": false,
          "task": false
        },
        "tags": []
      },
      "outputs": [],
      "source": [
        "#leave this cell blank"
      ]
    },
    {
      "cell_type": "code",
      "execution_count": 2,
      "metadata": {
        "id": "BrBbQkAo-n2u",
        "colab": {
          "base_uri": "https://localhost:8080/",
          "height": 206
        },
        "outputId": "05cd2ae7-ee1f-4fbd-8276-c32983fae8c1"
      },
      "outputs": [
        {
          "output_type": "display_data",
          "data": {
            "text/plain": [
              "<pandas.io.formats.style.Styler at 0x7f5539709840>"
            ],
            "text/html": [
              "<style type=\"text/css\">\n",
              "</style>\n",
              "<table id=\"T_ca667\" class=\"dataframe\">\n",
              "  <thead>\n",
              "    <tr>\n",
              "      <th id=\"T_ca667_level0_col0\" class=\"col_heading level0 col0\" >StaffID</th>\n",
              "      <th id=\"T_ca667_level0_col1\" class=\"col_heading level0 col1\" >StfFirstName</th>\n",
              "      <th id=\"T_ca667_level0_col2\" class=\"col_heading level0 col2\" >StfLastname</th>\n",
              "      <th id=\"T_ca667_level0_col3\" class=\"col_heading level0 col3\" >Salary</th>\n",
              "      <th id=\"T_ca667_level0_col4\" class=\"col_heading level0 col4\" >DateHired</th>\n",
              "    </tr>\n",
              "  </thead>\n",
              "  <tbody>\n",
              "    <tr>\n",
              "      <td id=\"T_ca667_row0_col0\" class=\"data row0 col0\" >98012</td>\n",
              "      <td id=\"T_ca667_row0_col1\" class=\"data row0 col1\" >Robert</td>\n",
              "      <td id=\"T_ca667_row0_col2\" class=\"data row0 col2\" >Brown</td>\n",
              "      <td id=\"T_ca667_row0_col3\" class=\"data row0 col3\" >49000</td>\n",
              "      <td id=\"T_ca667_row0_col4\" class=\"data row0 col4\" >1989-02-09</td>\n",
              "    </tr>\n",
              "    <tr>\n",
              "      <td id=\"T_ca667_row1_col0\" class=\"data row1 col0\" >98010</td>\n",
              "      <td id=\"T_ca667_row1_col1\" class=\"data row1 col1\" >Jeffrey</td>\n",
              "      <td id=\"T_ca667_row1_col2\" class=\"data row1 col2\" >Smith</td>\n",
              "      <td id=\"T_ca667_row1_col3\" class=\"data row1 col3\" >52000</td>\n",
              "      <td id=\"T_ca667_row1_col4\" class=\"data row1 col4\" >1983-10-06</td>\n",
              "    </tr>\n",
              "    <tr>\n",
              "      <td id=\"T_ca667_row2_col0\" class=\"data row2 col0\" >98005</td>\n",
              "      <td id=\"T_ca667_row2_col1\" class=\"data row2 col1\" >Suzanne</td>\n",
              "      <td id=\"T_ca667_row2_col2\" class=\"data row2 col2\" >Viescas</td>\n",
              "      <td id=\"T_ca667_row2_col3\" class=\"data row2 col3\" >44000</td>\n",
              "      <td id=\"T_ca667_row2_col4\" class=\"data row2 col4\" >1986-05-31</td>\n",
              "    </tr>\n",
              "    <tr>\n",
              "      <td id=\"T_ca667_row3_col0\" class=\"data row3 col0\" >98059</td>\n",
              "      <td id=\"T_ca667_row3_col1\" class=\"data row3 col1\" >Maria</td>\n",
              "      <td id=\"T_ca667_row3_col2\" class=\"data row3 col2\" >Patterson</td>\n",
              "      <td id=\"T_ca667_row3_col3\" class=\"data row3 col3\" >48000</td>\n",
              "      <td id=\"T_ca667_row3_col4\" class=\"data row3 col4\" >1986-09-17</td>\n",
              "    </tr>\n",
              "    <tr>\n",
              "      <td id=\"T_ca667_row4_col0\" class=\"data row4 col0\" >98007</td>\n",
              "      <td id=\"T_ca667_row4_col1\" class=\"data row4 col1\" >Gary</td>\n",
              "      <td id=\"T_ca667_row4_col2\" class=\"data row4 col2\" >Hallmark</td>\n",
              "      <td id=\"T_ca667_row4_col3\" class=\"data row4 col3\" >53000</td>\n",
              "      <td id=\"T_ca667_row4_col4\" class=\"data row4 col4\" >1985-01-21</td>\n",
              "    </tr>\n",
              "  </tbody>\n",
              "</table>\n"
            ]
          },
          "metadata": {}
        }
      ],
      "source": [
        "####TODO 8: put your sql query in the following three single quotes\n",
        "query8='''\n",
        "select StaffID, StfFirstName, StfLastname,Salary, DateHired from Staff\n",
        "join Departments on Departments.DeptChair = Staff.StaffID\n",
        "'''\n",
        "r = execute_query(conn2,query8)\n",
        "display_result(r)"
      ]
    },
    {
      "cell_type": "code",
      "execution_count": null,
      "metadata": {
        "deletable": false,
        "editable": false,
        "id": "oqcwcw5j-n5Q",
        "nbgrader": {
          "cell_type": "code",
          "checksum": "b6b47965ac4ff2cde218a0d3c4fa0a0e",
          "grade": true,
          "grade_id": "cell-61555f7b2e0000c2",
          "locked": true,
          "points": 10,
          "schema_version": 3,
          "solution": false,
          "task": false
        },
        "tags": []
      },
      "outputs": [],
      "source": [
        "#leave this cell blank"
      ]
    },
    {
      "cell_type": "code",
      "execution_count": 3,
      "metadata": {
        "id": "IM5cbCJR-n8F",
        "colab": {
          "base_uri": "https://localhost:8080/",
          "height": 613
        },
        "outputId": "92f017a3-91aa-467a-aaac-b15be3519147"
      },
      "outputs": [
        {
          "output_type": "display_data",
          "data": {
            "text/plain": [
              "<pandas.io.formats.style.Styler at 0x7f55396b2170>"
            ],
            "text/html": [
              "<style type=\"text/css\">\n",
              "</style>\n",
              "<table id=\"T_3971a\" class=\"dataframe\">\n",
              "  <thead>\n",
              "    <tr>\n",
              "      <th id=\"T_3971a_level0_col0\" class=\"col_heading level0 col0\" >StudFirstName</th>\n",
              "      <th id=\"T_3971a_level0_col1\" class=\"col_heading level0 col1\" >StudLastName</th>\n",
              "      <th id=\"T_3971a_level0_col2\" class=\"col_heading level0 col2\" >Major</th>\n",
              "      <th id=\"T_3971a_level0_col3\" class=\"col_heading level0 col3\" >COUNT(ss.ClassStatus)</th>\n",
              "    </tr>\n",
              "  </thead>\n",
              "  <tbody>\n",
              "    <tr>\n",
              "      <td id=\"T_3971a_row0_col0\" class=\"data row0 col0\" >Betsy</td>\n",
              "      <td id=\"T_3971a_row0_col1\" class=\"data row0 col1\" >Stadick</td>\n",
              "      <td id=\"T_3971a_row0_col2\" class=\"data row0 col2\" >Music</td>\n",
              "      <td id=\"T_3971a_row0_col3\" class=\"data row0 col3\" >7</td>\n",
              "    </tr>\n",
              "    <tr>\n",
              "      <td id=\"T_3971a_row1_col0\" class=\"data row1 col0\" >Brannon</td>\n",
              "      <td id=\"T_3971a_row1_col1\" class=\"data row1 col1\" >Jones</td>\n",
              "      <td id=\"T_3971a_row1_col2\" class=\"data row1 col2\" >English</td>\n",
              "      <td id=\"T_3971a_row1_col3\" class=\"data row1 col3\" >7</td>\n",
              "    </tr>\n",
              "    <tr>\n",
              "      <td id=\"T_3971a_row2_col0\" class=\"data row2 col0\" >David</td>\n",
              "      <td id=\"T_3971a_row2_col1\" class=\"data row2 col1\" >Hamilton</td>\n",
              "      <td id=\"T_3971a_row2_col2\" class=\"data row2 col2\" >English</td>\n",
              "      <td id=\"T_3971a_row2_col3\" class=\"data row2 col3\" >3</td>\n",
              "    </tr>\n",
              "    <tr>\n",
              "      <td id=\"T_3971a_row3_col0\" class=\"data row3 col0\" >Doris</td>\n",
              "      <td id=\"T_3971a_row3_col1\" class=\"data row3 col1\" >Hartwig</td>\n",
              "      <td id=\"T_3971a_row3_col2\" class=\"data row3 col2\" >Accounting</td>\n",
              "      <td id=\"T_3971a_row3_col3\" class=\"data row3 col3\" >7</td>\n",
              "    </tr>\n",
              "    <tr>\n",
              "      <td id=\"T_3971a_row4_col0\" class=\"data row4 col0\" >Elizabeth</td>\n",
              "      <td id=\"T_3971a_row4_col1\" class=\"data row4 col1\" >Hallmark</td>\n",
              "      <td id=\"T_3971a_row4_col2\" class=\"data row4 col2\" >Mathematics</td>\n",
              "      <td id=\"T_3971a_row4_col3\" class=\"data row4 col3\" >7</td>\n",
              "    </tr>\n",
              "    <tr>\n",
              "      <td id=\"T_3971a_row5_col0\" class=\"data row5 col0\" >George</td>\n",
              "      <td id=\"T_3971a_row5_col1\" class=\"data row5 col1\" >Chavez</td>\n",
              "      <td id=\"T_3971a_row5_col2\" class=\"data row5 col2\" >Art</td>\n",
              "      <td id=\"T_3971a_row5_col3\" class=\"data row5 col3\" >7</td>\n",
              "    </tr>\n",
              "    <tr>\n",
              "      <td id=\"T_3971a_row6_col0\" class=\"data row6 col0\" >Janice</td>\n",
              "      <td id=\"T_3971a_row6_col1\" class=\"data row6 col1\" >Galvin</td>\n",
              "      <td id=\"T_3971a_row6_col2\" class=\"data row6 col2\" >Information Sciences</td>\n",
              "      <td id=\"T_3971a_row6_col3\" class=\"data row6 col3\" >7</td>\n",
              "    </tr>\n",
              "    <tr>\n",
              "      <td id=\"T_3971a_row7_col0\" class=\"data row7 col0\" >John</td>\n",
              "      <td id=\"T_3971a_row7_col1\" class=\"data row7 col1\" >Kennedy</td>\n",
              "      <td id=\"T_3971a_row7_col2\" class=\"data row7 col2\" >Information Sciences</td>\n",
              "      <td id=\"T_3971a_row7_col3\" class=\"data row7 col3\" >7</td>\n",
              "    </tr>\n",
              "    <tr>\n",
              "      <td id=\"T_3971a_row8_col0\" class=\"data row8 col0\" >Karen</td>\n",
              "      <td id=\"T_3971a_row8_col1\" class=\"data row8 col1\" >Smith</td>\n",
              "      <td id=\"T_3971a_row8_col2\" class=\"data row8 col2\" >English</td>\n",
              "      <td id=\"T_3971a_row8_col3\" class=\"data row8 col3\" >7</td>\n",
              "    </tr>\n",
              "    <tr>\n",
              "      <td id=\"T_3971a_row9_col0\" class=\"data row9 col0\" >Kendra</td>\n",
              "      <td id=\"T_3971a_row9_col1\" class=\"data row9 col1\" >Bonnicksen</td>\n",
              "      <td id=\"T_3971a_row9_col2\" class=\"data row9 col2\" >Mathematics</td>\n",
              "      <td id=\"T_3971a_row9_col3\" class=\"data row9 col3\" >7</td>\n",
              "    </tr>\n",
              "    <tr>\n",
              "      <td id=\"T_3971a_row10_col0\" class=\"data row10 col0\" >Kerry</td>\n",
              "      <td id=\"T_3971a_row10_col1\" class=\"data row10 col1\" >Patterson</td>\n",
              "      <td id=\"T_3971a_row10_col2\" class=\"data row10 col2\" >General Studies</td>\n",
              "      <td id=\"T_3971a_row10_col3\" class=\"data row10 col3\" >7</td>\n",
              "    </tr>\n",
              "    <tr>\n",
              "      <td id=\"T_3971a_row11_col0\" class=\"data row11 col0\" >Marianne</td>\n",
              "      <td id=\"T_3971a_row11_col1\" class=\"data row11 col1\" >Wier</td>\n",
              "      <td id=\"T_3971a_row11_col2\" class=\"data row11 col2\" >Music</td>\n",
              "      <td id=\"T_3971a_row11_col3\" class=\"data row11 col3\" >3</td>\n",
              "    </tr>\n",
              "    <tr>\n",
              "      <td id=\"T_3971a_row12_col0\" class=\"data row12 col0\" >Michael</td>\n",
              "      <td id=\"T_3971a_row12_col1\" class=\"data row12 col1\" >Viescas</td>\n",
              "      <td id=\"T_3971a_row12_col2\" class=\"data row12 col2\" >Art</td>\n",
              "      <td id=\"T_3971a_row12_col3\" class=\"data row12 col3\" >7</td>\n",
              "    </tr>\n",
              "    <tr>\n",
              "      <td id=\"T_3971a_row13_col0\" class=\"data row13 col0\" >Richard</td>\n",
              "      <td id=\"T_3971a_row13_col1\" class=\"data row13 col1\" >Lum</td>\n",
              "      <td id=\"T_3971a_row13_col2\" class=\"data row13 col2\" >Mathematics</td>\n",
              "      <td id=\"T_3971a_row13_col3\" class=\"data row13 col3\" >7</td>\n",
              "    </tr>\n",
              "    <tr>\n",
              "      <td id=\"T_3971a_row14_col0\" class=\"data row14 col0\" >Sara</td>\n",
              "      <td id=\"T_3971a_row14_col1\" class=\"data row14 col1\" >Sheskey</td>\n",
              "      <td id=\"T_3971a_row14_col2\" class=\"data row14 col2\" >General Studies</td>\n",
              "      <td id=\"T_3971a_row14_col3\" class=\"data row14 col3\" >7</td>\n",
              "    </tr>\n",
              "    <tr>\n",
              "      <td id=\"T_3971a_row15_col0\" class=\"data row15 col0\" >Sarah</td>\n",
              "      <td id=\"T_3971a_row15_col1\" class=\"data row15 col1\" >Thompson</td>\n",
              "      <td id=\"T_3971a_row15_col2\" class=\"data row15 col2\" >Accounting</td>\n",
              "      <td id=\"T_3971a_row15_col3\" class=\"data row15 col3\" >7</td>\n",
              "    </tr>\n",
              "    <tr>\n",
              "      <td id=\"T_3971a_row16_col0\" class=\"data row16 col0\" >Scott</td>\n",
              "      <td id=\"T_3971a_row16_col1\" class=\"data row16 col1\" >Bishop</td>\n",
              "      <td id=\"T_3971a_row16_col2\" class=\"data row16 col2\" >Art</td>\n",
              "      <td id=\"T_3971a_row16_col3\" class=\"data row16 col3\" >7</td>\n",
              "    </tr>\n",
              "    <tr>\n",
              "      <td id=\"T_3971a_row17_col0\" class=\"data row17 col0\" >Steve</td>\n",
              "      <td id=\"T_3971a_row17_col1\" class=\"data row17 col1\" >Pundt</td>\n",
              "      <td id=\"T_3971a_row17_col2\" class=\"data row17 col2\" >Information Sciences</td>\n",
              "      <td id=\"T_3971a_row17_col3\" class=\"data row17 col3\" >7</td>\n",
              "    </tr>\n",
              "  </tbody>\n",
              "</table>\n"
            ]
          },
          "metadata": {}
        }
      ],
      "source": [
        "####TODO 9: put your sql query in the following three single quotes\n",
        "query9='''\n",
        "select StudFirstName, StudLastName, m.Major, COUNT(ss.ClassStatus) from Students s\n",
        "join Majors m on m.majorID = s.studMajor\n",
        "join Student_Schedules ss on ss.studentID = s.StudentID\n",
        "WHERE ss.ClassStatus < \"3\"\n",
        "GROUP BY StudFirstName;\n",
        "'''\n",
        "r = execute_query(conn2,query9)\n",
        "display_result(r)"
      ]
    },
    {
      "cell_type": "code",
      "execution_count": null,
      "metadata": {
        "deletable": false,
        "editable": false,
        "id": "LURTnDPi-p19",
        "nbgrader": {
          "cell_type": "code",
          "checksum": "becd3470456d15fb4cc1b93569f9d9fb",
          "grade": true,
          "grade_id": "cell-779939920ae7d0e9",
          "locked": true,
          "points": 10,
          "schema_version": 3,
          "solution": false,
          "task": false
        },
        "tags": []
      },
      "outputs": [],
      "source": [
        "#leave this cell blank"
      ]
    },
    {
      "cell_type": "code",
      "execution_count": 4,
      "metadata": {
        "id": "Lb10W1Hs-p4j",
        "colab": {
          "base_uri": "https://localhost:8080/",
          "height": 268
        },
        "outputId": "1c9977a8-0599-4851-e73a-e7b2c51e4208"
      },
      "outputs": [
        {
          "output_type": "display_data",
          "data": {
            "text/plain": [
              "<pandas.io.formats.style.Styler at 0x7f5539709150>"
            ],
            "text/html": [
              "<style type=\"text/css\">\n",
              "</style>\n",
              "<table id=\"T_af47f\" class=\"dataframe\">\n",
              "  <thead>\n",
              "    <tr>\n",
              "      <th id=\"T_af47f_level0_col0\" class=\"col_heading level0 col0\" >ClassID</th>\n",
              "      <th id=\"T_af47f_level0_col1\" class=\"col_heading level0 col1\" >Credits</th>\n",
              "    </tr>\n",
              "  </thead>\n",
              "  <tbody>\n",
              "    <tr>\n",
              "      <td id=\"T_af47f_row0_col0\" class=\"data row0 col0\" >1168</td>\n",
              "      <td id=\"T_af47f_row0_col1\" class=\"data row0 col1\" >5</td>\n",
              "    </tr>\n",
              "    <tr>\n",
              "      <td id=\"T_af47f_row1_col0\" class=\"data row1 col0\" >2907</td>\n",
              "      <td id=\"T_af47f_row1_col1\" class=\"data row1 col1\" >5</td>\n",
              "    </tr>\n",
              "    <tr>\n",
              "      <td id=\"T_af47f_row2_col0\" class=\"data row2 col0\" >3085</td>\n",
              "      <td id=\"T_af47f_row2_col1\" class=\"data row2 col1\" >5</td>\n",
              "    </tr>\n",
              "    <tr>\n",
              "      <td id=\"T_af47f_row3_col0\" class=\"data row3 col0\" >1156</td>\n",
              "      <td id=\"T_af47f_row3_col1\" class=\"data row3 col1\" >5</td>\n",
              "    </tr>\n",
              "    <tr>\n",
              "      <td id=\"T_af47f_row4_col0\" class=\"data row4 col0\" >2911</td>\n",
              "      <td id=\"T_af47f_row4_col1\" class=\"data row4 col1\" >5</td>\n",
              "    </tr>\n",
              "    <tr>\n",
              "      <td id=\"T_af47f_row5_col0\" class=\"data row5 col0\" >1162</td>\n",
              "      <td id=\"T_af47f_row5_col1\" class=\"data row5 col1\" >5</td>\n",
              "    </tr>\n",
              "    <tr>\n",
              "      <td id=\"T_af47f_row6_col0\" class=\"data row6 col0\" >1180</td>\n",
              "      <td id=\"T_af47f_row6_col1\" class=\"data row6 col1\" >5</td>\n",
              "    </tr>\n",
              "  </tbody>\n",
              "</table>\n"
            ]
          },
          "metadata": {}
        }
      ],
      "source": [
        "####TODO 10: put your sql query in the following three single quotes\n",
        "query10='''\n",
        "select distinct c.ClassID, c.Credits\n",
        "from Classes c\n",
        "join Class_Rooms r on r.ClassRoomID = c.ClassRoomID\n",
        "join Buildings b on b.BuildingCode = r.BuildingCode\n",
        "join Student_Schedules ss on ss.ClassID = c.ClassID\n",
        "WHERE BuildingName = \"College Center\"\n",
        "      and SemesterNumber < 2\n",
        "      and (MondaySchedule+TuesdaySchedule+WednesdaySchedule+ThursdaySchedule+FridaySchedule+SaturdaySchedule)>=2\n",
        "      and ClassStatus < 3\n",
        "'''\n",
        "r = execute_query(conn2,query10)\n",
        "display_result(r)"
      ]
    },
    {
      "cell_type": "code",
      "execution_count": null,
      "metadata": {
        "deletable": false,
        "editable": false,
        "id": "DEfHLsom-qt1",
        "nbgrader": {
          "cell_type": "code",
          "checksum": "52e13066c951b5a18c6fee7bebf16eea",
          "grade": true,
          "grade_id": "cell-e834a494a5054a33",
          "locked": true,
          "points": 0,
          "schema_version": 3,
          "solution": false,
          "task": false
        },
        "tags": []
      },
      "outputs": [],
      "source": [
        "#leave this cell blank"
      ]
    },
    {
      "cell_type": "code",
      "execution_count": null,
      "metadata": {
        "id": "PAuXCXHO-kbl"
      },
      "outputs": [],
      "source": [
        "#### Execute this block after you are done!!\n",
        "conn1.close()\n",
        "conn2.close()"
      ]
    }
  ],
  "metadata": {
    "colab": {
      "provenance": []
    },
    "kernelspec": {
      "display_name": "Python 3 (ipykernel)",
      "language": "python",
      "name": "python3"
    },
    "language_info": {
      "codemirror_mode": {
        "name": "ipython",
        "version": 3
      },
      "file_extension": ".py",
      "mimetype": "text/x-python",
      "name": "python",
      "nbconvert_exporter": "python",
      "pygments_lexer": "ipython3",
      "version": "3.10.4"
    }
  },
  "nbformat": 4,
  "nbformat_minor": 0
}